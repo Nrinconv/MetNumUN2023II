{
  "nbformat": 4,
  "nbformat_minor": 0,
  "metadata": {
    "colab": {
      "provenance": []
    },
    "kernelspec": {
      "name": "python3",
      "display_name": "Python 3"
    },
    "language_info": {
      "name": "python"
    }
  },
  "cells": [
    {
      "cell_type": "markdown",
      "source": [
        "**GROUP 2**\n",
        "\n",
        "Name\n",
        "*  Alarcon Vargas, David Andres\n",
        "*  Chaparro Pérez, David Felipe\n",
        "*  Rincon Vija, Nicolas Mauricio"
      ],
      "metadata": {
        "id": "_QjfLXtFYbAI"
      }
    },
    {
      "cell_type": "markdown",
      "metadata": {
        "id": "ZuGY2wUTjFDm"
      },
      "source": [
        "# Taylor series of $ln(x + 1)$\n",
        "\n",
        "$$\n",
        "\\begin{array}{lll}\n",
        "ln (x + 1)  & =  & \\sum_{i=1}^{\\infty} (-1)^{i-1} \\frac{x^i}{i} \\\\\n",
        "\\end{array}\n",
        "$$\n",
        "\n",
        "\n",
        "Approximation\n",
        "$$ ln(x+1)  \\approx  x - \\frac{x^2}{2}  + \\frac{x^3}{3}  - \\cdots+ \\frac{x^n}{n}$$\n"
      ]
    },
    {
      "cell_type": "markdown",
      "metadata": {
        "id": "qylNUuxmQUzq"
      },
      "source": [
        "#What is value of the partial Taylor series of $ln(x+1)$ up to the  $10$-th term of $ln(x+1)$ about $0$ (Maclaurin  series) for $x=0.5$\n",
        "\n",
        "$$ ln(x+1)  \\approx  x - \\frac{x^2}{2}  + \\frac{x^3}{3}  - \\cdots+ \\frac{x^n}{n}$$"
      ]
    },
    {
      "cell_type": "code",
      "metadata": {
        "colab": {
          "base_uri": "https://localhost:8080/"
        },
        "id": "UZyEw-hiQNU7",
        "outputId": "00579be4-61b6-4bd5-b0ce-f19d40b6e4c8"
      },
      "source": [
        "\n",
        "\n",
        "import math\n",
        "\n",
        "n = 10\n",
        "x = 0.5\n",
        "ln = 0\n",
        "\n",
        "for i in range(1,n+1):\n",
        "    ln += (-1)**(i-1)*x**i/i\n",
        "    print(i, 'ln ≈ ∑_{i=1}^'+str(i),'x^i/i =',ln)\n",
        "\n",
        "print('math.log(x+1) = ',math.log(x+1))"
      ],
      "execution_count": 1,
      "outputs": [
        {
          "output_type": "stream",
          "name": "stdout",
          "text": [
            "1 ln ≈ ∑_{i=1}^1 x^i/i = 0.5\n",
            "2 ln ≈ ∑_{i=1}^2 x^i/i = 0.375\n",
            "3 ln ≈ ∑_{i=1}^3 x^i/i = 0.4166666666666667\n",
            "4 ln ≈ ∑_{i=1}^4 x^i/i = 0.4010416666666667\n",
            "5 ln ≈ ∑_{i=1}^5 x^i/i = 0.40729166666666666\n",
            "6 ln ≈ ∑_{i=1}^6 x^i/i = 0.4046875\n",
            "7 ln ≈ ∑_{i=1}^7 x^i/i = 0.40580357142857143\n",
            "8 ln ≈ ∑_{i=1}^8 x^i/i = 0.40531529017857143\n",
            "9 ln ≈ ∑_{i=1}^9 x^i/i = 0.4055323040674603\n",
            "10 ln ≈ ∑_{i=1}^10 x^i/i = 0.4054346478174603\n",
            "math.log(x+1) =  0.4054651081081644\n"
          ]
        }
      ]
    },
    {
      "cell_type": "markdown",
      "source": [
        "# What is the minimun $n$ for which the error between the Taylor series for $ln(x+1)$ about $0$ (Maclaurin  series) for $x$ and *math.log(x+1)*, is in absolute value less than  $\\epsilon$.\n",
        "\n",
        "$$\\min_{n \\in \\mathbb{N}}\\left|\\sum_{i=1}^{n} (-1)^{i-1}\\frac{x^i}{i} - math.log(x+1) \\right| < \\epsilon$$"
      ],
      "metadata": {
        "id": "EQulygu91CbA"
      }
    },
    {
      "cell_type": "code",
      "metadata": {
        "colab": {
          "base_uri": "https://localhost:8080/"
        },
        "id": "EfkY5SM7pZBL",
        "outputId": "ef1ddb8e-3e80-4bb5-c575-10c713487ce8"
      },
      "source": [
        "\n",
        "import math\n",
        "\n",
        "x = 0.5\n",
        "epsilon = 10**(-5)\n",
        "\n",
        "ln = 0\n",
        "\n",
        "print(\"n\".rjust(10),\" \",\"∑_{i=1}^n x^i/i\".center(21),\" \",\"delta =x^i/i \".center(21),\" \",\"error\".center(14),\" \",\"epsilon\".center(20))\n",
        "error = 1\n",
        "i = 1\n",
        "\n",
        "while  epsilon <= error:\n",
        "  delta =  (-1)**(i-1)*x**i / i\n",
        "  ln += delta\n",
        "  error = abs(math.log(x+1) - ln)\n",
        "  print(format(i, '10'),\"  \", format(ln, '.18f'),\"  \",format(delta, '.17f'),\" \",format(error, '.17f'),\"  \",\"{:.0e}\".format(epsilon))\n",
        "  i = i+1\n",
        "\n",
        "\n",
        "print(\"n =\",i-1)\n",
        "print(\"x =\",x)\n",
        "print('ln ≈ ∑_{i=1}^'+str(i-1),'x^i/i =',ln)\n",
        "print(\"epsilon =\",\"{:.0e}\".format(epsilon))\n",
        "print('math.log(x+1) = ',math.log(x+1))"
      ],
      "execution_count": 2,
      "outputs": [
        {
          "output_type": "stream",
          "name": "stdout",
          "text": [
            "         n      ∑_{i=1}^n x^i/i          delta =x^i/i            error              epsilon       \n",
            "         1    0.500000000000000000    0.50000000000000000   0.09453489189183562    1e-05\n",
            "         2    0.375000000000000000    -0.12500000000000000   0.03046510810816438    1e-05\n",
            "         3    0.416666666666666685    0.04166666666666666   0.01120155855850230    1e-05\n",
            "         4    0.401041666666666685    -0.01562500000000000   0.00442344144149770    1e-05\n",
            "         5    0.407291666666666663    0.00625000000000000   0.00182655855850228    1e-05\n",
            "         6    0.404687499999999978    -0.00260416666666667   0.00077760810816441    1e-05\n",
            "         7    0.405803571428571430    0.00111607142857143   0.00033846332040705    1e-05\n",
            "         8    0.405315290178571430    -0.00048828125000000   0.00014981792959295    1e-05\n",
            "         9    0.405532304067460325    0.00021701388888889   0.00006719595929594    1e-05\n",
            "        10    0.405434647817460303    -0.00009765625000000   0.00003046029070408    1e-05\n",
            "        11    0.405479037022005773    0.00004438920454545   0.00001392891384139    1e-05\n",
            "        12    0.405458691969922458    -0.00002034505208333   0.00000641613824193    1e-05\n",
            "n = 12\n",
            "x = 0.5\n",
            "ln ≈ ∑_{i=1}^12 x^i/i = 0.40545869196992246\n",
            "epsilon = 1e-05\n",
            "math.log(x+1) =  0.4054651081081644\n"
          ]
        }
      ]
    },
    {
      "cell_type": "code",
      "source": [
        "\n",
        "import math\n",
        "\n",
        "x = -0.5\n",
        "epsilon = 10**(-5)\n",
        "\n",
        "ln = 0\n",
        "\n",
        "print(\"n\".rjust(10),\" \",\"∑_{i=1}^n x^i/i\".center(21),\" \",\"delta =x^i/i \".center(21),\" \",\"error\".center(14),\" \",\"epsilon\".center(20))\n",
        "error = 1\n",
        "i = 1\n",
        "while  epsilon <= error:\n",
        "  delta =  (-1)**(i-1)*x**i / i\n",
        "  ln += delta\n",
        "  error = abs(math.log(x+1) - ln)\n",
        "  print(format(i, '10'),\"  \", format(ln, '.18f'),\"  \",format(delta, '.17f'),\" \",format(error, '.17f'),\"  \",\"{:.0e}\".format(epsilon))\n",
        "  i = i+1\n",
        "\n",
        "\n",
        "print(\"n =\",i-1)\n",
        "print(\"x =\",x)\n",
        "print('ln ≈ ∑_{i=1}^'+str(i-1),'x^i/i =',ln)\n",
        "print(\"epsilon =\",\"{:.0e}\".format(epsilon))\n",
        "print('math.log(x+1) = ',math.log(x+1))"
      ],
      "metadata": {
        "colab": {
          "base_uri": "https://localhost:8080/"
        },
        "id": "3Pn3ahtECboG",
        "outputId": "6cec799e-0207-4304-81a5-761a88e4156b"
      },
      "execution_count": 3,
      "outputs": [
        {
          "output_type": "stream",
          "name": "stdout",
          "text": [
            "         n      ∑_{i=1}^n x^i/i          delta =x^i/i            error              epsilon       \n",
            "         1    -0.500000000000000000    -0.50000000000000000   0.19314718055994529    1e-05\n",
            "         2    -0.625000000000000000    -0.12500000000000000   0.06814718055994529    1e-05\n",
            "         3    -0.666666666666666630    -0.04166666666666666   0.02648051389327866    1e-05\n",
            "         4    -0.682291666666666630    -0.01562500000000000   0.01085551389327866    1e-05\n",
            "         5    -0.688541666666666607    -0.00625000000000000   0.00460551389327868    1e-05\n",
            "         6    -0.691145833333333237    -0.00260416666666667   0.00200134722661205    1e-05\n",
            "         7    -0.692261904761904634    -0.00111607142857143   0.00088527579804065    1e-05\n",
            "         8    -0.692750186011904634    -0.00048828125000000   0.00039699454804065    1e-05\n",
            "         9    -0.692967199900793474    -0.00021701388888889   0.00017998065915181    1e-05\n",
            "        10    -0.693064856150793496    -0.00009765625000000   0.00008232440915179    1e-05\n",
            "        11    -0.693109245355338910    -0.00004438920454545   0.00003793520460638    1e-05\n",
            "        12    -0.693129590407422280    -0.00002034505208333   0.00001759015252301    1e-05\n",
            "        13    -0.693138980431460716    -0.00000939002403846   0.00000820012848457    1e-05\n",
            "n = 13\n",
            "x = -0.5\n",
            "ln ≈ ∑_{i=1}^13 x^i/i = -0.6931389804314607\n",
            "epsilon = 1e-05\n",
            "math.log(x+1) =  -0.6931471805599453\n"
          ]
        }
      ]
    },
    {
      "cell_type": "markdown",
      "metadata": {
        "id": "ZlcF8gIdjZ6t"
      },
      "source": [
        "# What is the minimun $n$ for which the $n$-th term of the Taylor series for $ln(x+1)$ about $0$ (Maclaurin  series) for $x$, is in absolute value less than  $\\epsilon$.\n",
        "\n",
        "$$\\min_{n \\in \\mathbb{N}}\\left|(-1)^{n-1}\\frac{x^{n}}{n}\\right| < \\epsilon$$"
      ]
    },
    {
      "cell_type": "code",
      "metadata": {
        "id": "_8y-XrmvcCLf",
        "colab": {
          "base_uri": "https://localhost:8080/"
        },
        "outputId": "cb3280e6-170f-47a2-dbbc-8cbfd72ec5f9"
      },
      "source": [
        "\n",
        "import math\n",
        "\n",
        "x = 0.5\n",
        "epsilon = 10**(-5)\n",
        "\n",
        "ln = 0\n",
        "\n",
        "delta = 1\n",
        "i = 1\n",
        "print(\"n\".rjust(10),\" \",\"∑_{i=1}^n x^i/i\".center(20),\" \",\" delta=x^n/n\".center(20),\" \",\"epsilon\".center(9))\n",
        "while  epsilon <= abs(delta):\n",
        "  delta = (-1)**(i-1)*x**i / i\n",
        "  ln += delta\n",
        "  print(format(i, '10'),\"  \", format(ln, '.17f'),\"  \",format(delta, '.17f'),\"  \",\"{:.0e}\".format(epsilon))\n",
        "  i = i+1\n",
        "\n",
        "print(\"n = \",i-1)\n",
        "print('x = ',x)\n",
        "print('ln ≈ ∑_{i=1}^'+str(i-1),'x^i/i =',ln)\n",
        "print(\"epsilon =\",\"{:.0e}\".format(epsilon))\n",
        "print('math.log(x+1) = ',math.log(x+1))"
      ],
      "execution_count": 4,
      "outputs": [
        {
          "output_type": "stream",
          "name": "stdout",
          "text": [
            "         n     ∑_{i=1}^n x^i/i           delta=x^n/n        epsilon \n",
            "         1    0.50000000000000000    0.50000000000000000    1e-05\n",
            "         2    0.37500000000000000    -0.12500000000000000    1e-05\n",
            "         3    0.41666666666666669    0.04166666666666666    1e-05\n",
            "         4    0.40104166666666669    -0.01562500000000000    1e-05\n",
            "         5    0.40729166666666666    0.00625000000000000    1e-05\n",
            "         6    0.40468749999999998    -0.00260416666666667    1e-05\n",
            "         7    0.40580357142857143    0.00111607142857143    1e-05\n",
            "         8    0.40531529017857143    -0.00048828125000000    1e-05\n",
            "         9    0.40553230406746033    0.00021701388888889    1e-05\n",
            "        10    0.40543464781746030    -0.00009765625000000    1e-05\n",
            "        11    0.40547903702200577    0.00004438920454545    1e-05\n",
            "        12    0.40545869196992246    -0.00002034505208333    1e-05\n",
            "        13    0.40546808199396089    0.00000939002403846    1e-05\n",
            "n =  13\n",
            "x =  0.5\n",
            "ln ≈ ∑_{i=1}^13 x^i/i = 0.4054680819939609\n",
            "epsilon = 1e-05\n",
            "math.log(x+1) =  0.4054651081081644\n"
          ]
        }
      ]
    },
    {
      "cell_type": "code",
      "metadata": {
        "colab": {
          "base_uri": "https://localhost:8080/"
        },
        "id": "Ifa0n-_ODOAj",
        "outputId": "0eff6f67-4396-4c3b-f4dd-5f06371d3d7a"
      },
      "source": [
        "\n",
        "import math\n",
        "\n",
        "x = -0.5\n",
        "epsilon = 10**(-5)\n",
        "\n",
        "ln = 0\n",
        "\n",
        "delta = 1\n",
        "i = 1\n",
        "print(\"n\".rjust(10),\" \",\"∑_{i=1}^n x^i/i\".center(20),\" \",\" delta=x^n/n\".center(20),\" \",\"epsilon\".center(9))\n",
        "while  epsilon <= abs(delta):\n",
        "  delta = (-1)**(i-1)*x**i / i\n",
        "  ln += delta\n",
        "  print(format(i, '10'),\"  \", format(ln, '.17f'),\"  \",format(delta, '.17f'),\"  \",\"{:.0e}\".format(epsilon))\n",
        "  i = i+1\n",
        "\n",
        "print(\"n = \",i-1)\n",
        "print('x = ',x)\n",
        "print('ln ≈ ∑_{i=1}^'+str(i-1),'x^i/i =',ln)\n",
        "print(\"epsilon =\",\"{:.0e}\".format(epsilon))\n",
        "print('math.log(x+1) = ',math.log(x+1))"
      ],
      "execution_count": 5,
      "outputs": [
        {
          "output_type": "stream",
          "name": "stdout",
          "text": [
            "         n     ∑_{i=1}^n x^i/i           delta=x^n/n        epsilon \n",
            "         1    -0.50000000000000000    -0.50000000000000000    1e-05\n",
            "         2    -0.62500000000000000    -0.12500000000000000    1e-05\n",
            "         3    -0.66666666666666663    -0.04166666666666666    1e-05\n",
            "         4    -0.68229166666666663    -0.01562500000000000    1e-05\n",
            "         5    -0.68854166666666661    -0.00625000000000000    1e-05\n",
            "         6    -0.69114583333333324    -0.00260416666666667    1e-05\n",
            "         7    -0.69226190476190463    -0.00111607142857143    1e-05\n",
            "         8    -0.69275018601190463    -0.00048828125000000    1e-05\n",
            "         9    -0.69296719990079347    -0.00021701388888889    1e-05\n",
            "        10    -0.69306485615079350    -0.00009765625000000    1e-05\n",
            "        11    -0.69310924535533891    -0.00004438920454545    1e-05\n",
            "        12    -0.69312959040742228    -0.00002034505208333    1e-05\n",
            "        13    -0.69313898043146072    -0.00000939002403846    1e-05\n",
            "n =  13\n",
            "x =  -0.5\n",
            "ln ≈ ∑_{i=1}^13 x^i/i = -0.6931389804314607\n",
            "epsilon = 1e-05\n",
            "math.log(x+1) =  -0.6931471805599453\n"
          ]
        }
      ]
    },
    {
      "cell_type": "code",
      "metadata": {
        "colab": {
          "base_uri": "https://localhost:8080/"
        },
        "id": "9qMzfOv0C6PM",
        "outputId": "20e996de-b0f2-4f4e-8c17-d2e82b76edce"
      },
      "source": [
        "\n",
        "import math\n",
        "\n",
        "x = 0.3\n",
        "epsilon = 10**(-5)\n",
        "\n",
        "ln = 0\n",
        "\n",
        "delta = 1\n",
        "i = 1\n",
        "print(\"n\".rjust(10),\" \",\"∑_{i=1}^n x^i/i\".center(20),\" \",\" deltax^n/n\".center(20),\" \",\"epsilon\".center(9))\n",
        "while  epsilon <= abs(delta):\n",
        "  delta = (-1)**(i-1)*x**i / i\n",
        "  ln += delta\n",
        "  print(format(i, '10'),\"  \", format(ln, '.17f'),\"  \",format(delta, '.17f'),\"  \",\"{:.0e}\".format(epsilon))\n",
        "  i = i+1\n",
        "\n",
        "print(\"n = \",i-1)\n",
        "print('x = ',x)\n",
        "print('ln ≈ ∑_{i=1}^'+str(i-1),'x^i/i =',ln)\n",
        "print(\"epsilon =\",\"{:.0e}\".format(epsilon))\n",
        "print('math.log(x+1) = ',math.log(x+1))"
      ],
      "execution_count": 6,
      "outputs": [
        {
          "output_type": "stream",
          "name": "stdout",
          "text": [
            "         n     ∑_{i=1}^n x^i/i           deltax^n/n         epsilon \n",
            "         1    0.29999999999999999    0.29999999999999999    1e-05\n",
            "         2    0.25500000000000000    -0.04500000000000000    1e-05\n",
            "         3    0.26400000000000001    0.00900000000000000    1e-05\n",
            "         4    0.26197500000000001    -0.00202500000000000    1e-05\n",
            "         5    0.26246100000000000    0.00048600000000000    1e-05\n",
            "         6    0.26233950000000000    -0.00012150000000000    1e-05\n",
            "         7    0.26237074285714285    0.00003124285714286    1e-05\n",
            "         8    0.26236254160714284    -0.00000820125000000    1e-05\n",
            "n =  8\n",
            "x =  0.3\n",
            "ln ≈ ∑_{i=1}^8 x^i/i = 0.26236254160714284\n",
            "epsilon = 1e-05\n",
            "math.log(x+1) =  0.26236426446749106\n"
          ]
        }
      ]
    },
    {
      "cell_type": "code",
      "source": [
        "\n",
        "import math\n",
        "\n",
        "x = -0.3\n",
        "epsilon = 10**(-5)\n",
        "\n",
        "ln = 0\n",
        "\n",
        "delta = 1\n",
        "i = 1\n",
        "print(\"n\".rjust(10),\" \",\"∑_{i=1}^n x^i/i\".center(20),\" \",\" delta=x^n/n\".center(20),\" \",\"epsilon\".center(9))\n",
        "while  epsilon <= abs(delta):\n",
        "  delta = (-1)**(i-1)*x**i / i\n",
        "  ln += delta\n",
        "  print(format(i, '10'),\"  \", format(ln, '.17f'),\"  \",format(delta, '.17f'),\"  \",\"{:.0e}\".format(epsilon))\n",
        "  i = i+1\n",
        "\n",
        "print(\"n = \",i-1)\n",
        "print('x = ',x)\n",
        "print('ln ≈ ∑_{i=1}^'+str(i-1),'x^i/i =',ln)\n",
        "print(\"epsilon =\",\"{:.0e}\".format(epsilon))\n",
        "print('math.log(x+1) = ',math.log(x+1))"
      ],
      "metadata": {
        "colab": {
          "base_uri": "https://localhost:8080/"
        },
        "id": "c3tgFlYc6sKn",
        "outputId": "7b38d8db-3635-40f0-981e-4ac811624b60"
      },
      "execution_count": 7,
      "outputs": [
        {
          "output_type": "stream",
          "name": "stdout",
          "text": [
            "         n     ∑_{i=1}^n x^i/i           delta=x^n/n        epsilon \n",
            "         1    -0.29999999999999999    -0.29999999999999999    1e-05\n",
            "         2    -0.34499999999999997    -0.04500000000000000    1e-05\n",
            "         3    -0.35399999999999998    -0.00900000000000000    1e-05\n",
            "         4    -0.35602499999999998    -0.00202500000000000    1e-05\n",
            "         5    -0.35651099999999997    -0.00048600000000000    1e-05\n",
            "         6    -0.35663249999999996    -0.00012150000000000    1e-05\n",
            "         7    -0.35666374285714281    -0.00003124285714286    1e-05\n",
            "         8    -0.35667194410714281    -0.00000820125000000    1e-05\n",
            "n =  8\n",
            "x =  -0.3\n",
            "ln ≈ ∑_{i=1}^8 x^i/i = -0.3566719441071428\n",
            "epsilon = 1e-05\n",
            "math.log(x+1) =  -0.35667494393873245\n"
          ]
        }
      ]
    },
    {
      "cell_type": "markdown",
      "source": [
        "# Efficeincy\n",
        "Efficient\n",
        "\n"
      ],
      "metadata": {
        "id": "PBe8gYqRwB-Z"
      }
    },
    {
      "cell_type": "code",
      "source": [
        "\n",
        "\n",
        "import time\n",
        "\n",
        "start = time.time()\n",
        "\n",
        "x = 0.99\n",
        "epsilon = 10**(-20)\n",
        "\n",
        "delta = 1\n",
        "ln = 0\n",
        "i = 1\n",
        "x_to_i = 1\n",
        "\n",
        "while  epsilon <= abs(delta):\n",
        "     x_to_i *= x\n",
        "     delta = x_to_i/i\n",
        "     ln += delta\n",
        "     i = i+1\n",
        "\n",
        "end = time.time()\n",
        "\n",
        "print(\"n = \",i-1)\n",
        "print('x = ',x)\n",
        "print('ln ≈ ∑_{i=1}^'+str(i-1),'x^i/i =',ln)\n",
        "print(\"epsilon =\",\"{:.0e}\".format(epsilon))\n",
        "print('mathlog(x+1) = ',math.log(x+1))\n",
        "print('time = ',end - start)"
      ],
      "metadata": {
        "colab": {
          "base_uri": "https://localhost:8080/"
        },
        "id": "uqmD3vEUQO8S",
        "outputId": "8f089cc6-165d-4c45-f4aa-df43df61af3e"
      },
      "execution_count": 8,
      "outputs": [
        {
          "output_type": "stream",
          "name": "stdout",
          "text": [
            "n =  3763\n",
            "x =  0.99\n",
            "ln ≈ ∑_{i=1}^3763 x^i/i = 4.605170185988059\n",
            "epsilon = 1e-20\n",
            "mathlog(x+1) =  0.688134638736401\n",
            "time =  0.011864900588989258\n"
          ]
        }
      ]
    },
    {
      "cell_type": "code",
      "source": [
        "import time\n",
        "\n",
        "start = time.time()\n",
        "\n",
        "x = -0.99\n",
        "epsilon = 10**(-20)\n",
        "\n",
        "delta = 1\n",
        "ln = 0\n",
        "i = 1\n",
        "\n",
        "while  epsilon <= abs(delta):\n",
        "     x_to_i *= x\n",
        "     delta = x_to_i/i\n",
        "     ln += delta\n",
        "     i = i+1\n",
        "\n",
        "end = time.time()\n",
        "\n",
        "print(\"n = \",i-1)\n",
        "print('x = ',x)\n",
        "print('ln ≈ ∑_{i=1}^'+str(i-1),'x^i/i =',ln)\n",
        "print(\"epsilon =\",\"{:.0e}\".format(epsilon))\n",
        "print('mathlog(x+1) = ',math.log(x+1))\n",
        "print('time = ',end - start)"
      ],
      "metadata": {
        "colab": {
          "base_uri": "https://localhost:8080/"
        },
        "id": "4SidsY8ylmM7",
        "outputId": "8e30b686-68b2-4b88-9e48-5eb4fce560de"
      },
      "execution_count": 9,
      "outputs": [
        {
          "output_type": "stream",
          "name": "stdout",
          "text": [
            "n =  265\n",
            "x =  -0.99\n",
            "ln ≈ ∑_{i=1}^265 x^i/i = -2.5881719401858137e-17\n",
            "epsilon = 1e-20\n",
            "mathlog(x+1) =  -4.605170185988091\n",
            "time =  0.0005879402160644531\n"
          ]
        }
      ]
    },
    {
      "cell_type": "markdown",
      "metadata": {
        "id": "TxhZ8nnZpvbt"
      },
      "source": [
        "# Error using the Lagrange's formula of the Residual $E_n$\n",
        "\n",
        "* Form: Numerical Analysis Mathematics of Scientific Computing David Kincaid and Ward Cheney and Error estimates in Taylor approximations https://math.dartmouth.edu/~m8s17/ErrorEstimates.pdf\n",
        "\n",
        "## Lagrange's formula of the Residual\n",
        "For the Taylor series for $f(x)$\n",
        "\n",
        "$$ E_n = \\frac{f^{(n+1)}(\\xi)}{(n+1)!}(x-c)^{(n+1)} \\text{ for }  \\xi \\text{ between } c \\text{ and } x $$\n",
        "\n",
        "If you can find a positive real number $M$such that\n",
        "$$\\left|f^{(n+1)}(\\xi)\\right|  \\le M \\text{ for }  \\xi \\text{ between } c \\text{ and } x $$ for all\n",
        " then Lagrange’s formula tells you\n",
        "that\n",
        "$$ \\left| E_n \\right| \\le  \\frac{M}{(n+1)!}\n",
        "\\left|x − c\\right|^{(n+1)} $$\n",
        "\n",
        "For the Taylor series for $f(x) = ln(x+1)$ about $c=0$ (Maclaurin)\n",
        "\n",
        "$$ \\left|E_n \\right| =  \\left|\\frac{f^{(n+1)}(\\xi)}{(n+1)!}(x-c)^{(n+1)} \\right| = \\left|\\frac{(-1)^n(n)!(1+\\xi)^n}{(n+1)!}x^{(n+1)} \\right| \\le \\left| \\frac{(-1)^n(n)!(1+x)^n}{(n+1)!}x^{(n+1)} \\right| $$\n",
        "\n",
        "\n",
        "\n"
      ]
    },
    {
      "cell_type": "markdown",
      "metadata": {
        "id": "y1fLchcRq-mT"
      },
      "source": [
        "# What is the minimun $n$ for which the error using absolute value of the Lagrange's formula of the Residual $|E_n|$, of the Taylor series for $e^x$ about $0$ (Maclaurin  series), is less than  $\\epsilon$.\n",
        "\n",
        "$$ \\min_{n \\in \\mathbb{N}}|E_n|  < \\epsilon $$\n",
        "\n",
        "this is\n",
        "\n",
        "$$\\min_{n \\in \\mathbb{N}}\\left\\{  \\left|\\frac{(-1)^n(n)!(1+x)^n}{(n+1)!}x^{(n+1)} \\right| \\right\\} < \\epsilon $$\n",
        ""
      ]
    },
    {
      "cell_type": "code",
      "metadata": {
        "colab": {
          "base_uri": "https://localhost:8080/"
        },
        "id": "hBLCJ5mUqu4T",
        "outputId": "c637e891-c380-4dd0-ae09-7ef5b940d2bf"
      },
      "source": [
        "\n",
        "\n",
        "import math\n",
        "\n",
        "x = 0.5\n",
        "epsilon = 10**(-5)\n",
        "\n",
        "ln = 0\n",
        "\n",
        "print(\"n\".rjust(10),\" \",\"∑_{i=1}^n x^i/i\".center(21),\" \",\"|Lagrange_Residual_n|\".center(20),\" \",\"epsilon\".center(20))\n",
        "error = 1\n",
        "i = 1\n",
        "while  epsilon <= abs(error):\n",
        "  ln +=  (-1)**(i-1)*x**i / i\n",
        "  error = (-1)**(i)*(1+x)**i*x**(i+1)/(i+1)\n",
        "  print(format(i, '10'),\"  \", format(ln, '.17f'),\"  \",format(error, '.17f'),\"  \",\"{:.0e}\".format(epsilon))\n",
        "  i = i+1\n",
        "\n",
        "print(\"n = \",i-1)\n",
        "print('x = ',x)\n",
        "print('ln ≈ ∑_{i=1}^'+str(i-1),'x^i/i =',ln)\n",
        "print(\"epsilon =\",\"{:.0e}\".format(epsilon))\n",
        "print('math.log(x+1) = ',math.log(x+1))"
      ],
      "execution_count": 10,
      "outputs": [
        {
          "output_type": "stream",
          "name": "stdout",
          "text": [
            "         n      ∑_{i=1}^n x^i/i      |Lagrange_Residual_n|         epsilon       \n",
            "         1    0.50000000000000000    -0.18750000000000000    1e-05\n",
            "         2    0.37500000000000000    0.09375000000000000    1e-05\n",
            "         3    0.41666666666666669    -0.05273437500000000    1e-05\n",
            "         4    0.40104166666666669    0.03164062500000000    1e-05\n",
            "         5    0.40729166666666666    -0.01977539062500000    1e-05\n",
            "         6    0.40468749999999998    0.01271275111607143    1e-05\n",
            "         7    0.40580357142857143    -0.00834274291992188    1e-05\n",
            "         8    0.40531529017857143    0.00556182861328125    1e-05\n",
            "         9    0.40553230406746033    -0.00375423431396484    1e-05\n",
            "        10    0.40543464781746030    0.00255970521406694    1e-05\n",
            "        11    0.40547903702200577    -0.00175979733467102    1e-05\n",
            "        12    0.40545869196992246    0.00121832123169532    1e-05\n",
            "        13    0.40546808199396089    -0.00084847371493067    1e-05\n",
            "        14    0.40546372233994304    0.00059393160045147    1e-05\n",
            "        15    0.40546575684515140    -0.00041760815656744    1e-05\n",
            "        16    0.40546480317083500    0.00029478222816525    1e-05\n",
            "        17    0.40546525195874861    -0.00020880407828372    1e-05\n",
            "        18    0.40546504003112271    0.00014836079246475    1e-05\n",
            "        19    0.40546514041789289    -0.00010570706463113    1e-05\n",
            "        20    0.40546509273417708    0.00007550504616510    1e-05\n",
            "        21    0.40546511544070840    -0.00005405474895910    1e-05\n",
            "        22    0.40546510460350027    0.00003877840686196    1e-05\n",
            "        23    0.40546510978651285    -0.00002787197993204    1e-05\n",
            "        24    0.40546510730298596    0.00002006782555107    1e-05\n",
            "        25    0.40546510849507883    -0.00001447198958010    1e-05\n",
            "        26    0.40546510792195722    0.00001045199247451    1e-05\n",
            "        27    0.40546510819790466    -0.00000755903027175    1e-05\n",
            "n =  27\n",
            "x =  0.5\n",
            "ln ≈ ∑_{i=1}^27 x^i/i = 0.40546510819790466\n",
            "epsilon = 1e-05\n",
            "math.log(x+1) =  0.4054651081081644\n"
          ]
        }
      ]
    },
    {
      "cell_type": "code",
      "source": [
        "import math\n",
        "\n",
        "x = -0.5\n",
        "epsilon = 10**(-5)\n",
        "\n",
        "ln = 0\n",
        "\n",
        "print(\"n\".rjust(10),\" \",\"∑_{i=1}^n x^i/i\".center(21),\" \",\"|Lagrange_Residual_n|\".center(20),\" \",\"epsilon\".center(20))\n",
        "error = 1\n",
        "i = 1\n",
        "while  epsilon <= abs(error):\n",
        "  ln +=  (-1)**(i-1)*x**i / i\n",
        "  error = (-1)**(i)*(1+x)**i*x**(i+1)/(i+1)\n",
        "  print(format(i, '10'),\"  \", format(ln, '.17f'),\"  \",format(error, '.17f'),\"  \",\"{:.0e}\".format(epsilon))\n",
        "  i = i+1\n",
        "\n",
        "print(\"n = \",i-1)\n",
        "print('x = ',x)\n",
        "print('ln ≈ ∑_{i=1}^'+str(i-1),'x^i/i =',ln)\n",
        "print(\"epsilon =\",\"{:.0e}\".format(epsilon))\n",
        "print('math.log(x+1) = ',math.log(x+1))"
      ],
      "metadata": {
        "colab": {
          "base_uri": "https://localhost:8080/"
        },
        "id": "EzCCSnD15R0X",
        "outputId": "46dc20df-6bcc-4b82-ed5c-84f43b01dee3"
      },
      "execution_count": 11,
      "outputs": [
        {
          "output_type": "stream",
          "name": "stdout",
          "text": [
            "         n      ∑_{i=1}^n x^i/i      |Lagrange_Residual_n|         epsilon       \n",
            "         1    -0.50000000000000000    -0.06250000000000000    1e-05\n",
            "         2    -0.62500000000000000    -0.01041666666666667    1e-05\n",
            "         3    -0.66666666666666663    -0.00195312500000000    1e-05\n",
            "         4    -0.68229166666666663    -0.00039062500000000    1e-05\n",
            "         5    -0.68854166666666661    -0.00008138020833333    1e-05\n",
            "         6    -0.69114583333333324    -0.00001743861607143    1e-05\n",
            "         7    -0.69226190476190463    -0.00000381469726562    1e-05\n",
            "n =  7\n",
            "x =  -0.5\n",
            "ln ≈ ∑_{i=1}^7 x^i/i = -0.6922619047619046\n",
            "epsilon = 1e-05\n",
            "math.log(x+1) =  -0.6931471805599453\n"
          ]
        }
      ]
    },
    {
      "cell_type": "markdown",
      "source": [
        "#  Sympy\n",
        "\n",
        "Taylor Series Expansion with Python from Data Science Fabric\n",
        "\n",
        "https://dsfabric.org/taylor-series-expansion-with-python"
      ],
      "metadata": {
        "id": "cx2-LoLzahoa"
      }
    },
    {
      "cell_type": "code",
      "source": [
        "from sympy import series, Symbol, pi, E, N\n",
        "from sympy.functions import ln\n",
        "from sympy.plotting import plot\n",
        "import matplotlib.pyplot as plt"
      ],
      "metadata": {
        "id": "hGQPpZ8gaVWN"
      },
      "execution_count": 12,
      "outputs": []
    },
    {
      "cell_type": "code",
      "source": [
        "# Define symbol\n",
        "x = Symbol('x')"
      ],
      "metadata": {
        "id": "qiHCCJ3napkY"
      },
      "execution_count": 13,
      "outputs": []
    },
    {
      "cell_type": "code",
      "source": [
        "# Function for Taylor Series Expansion\n",
        "\n",
        "def taylor(function, x0, n):\n",
        "    \"\"\"\n",
        "    Parameter \"function\" is our function which we want to approximate\n",
        "    \"x0\" is the point where to approximate\n",
        "    \"n\" is the order of approximation\n",
        "    \"\"\"\n",
        "    return function.series(x,x0,n)"
      ],
      "metadata": {
        "id": "z9fkRjbJatry"
      },
      "execution_count": 14,
      "outputs": []
    },
    {
      "cell_type": "code",
      "source": [
        "print('ln(x+1)  ≅')\n",
        "taylor(ln(x+1), 0, 8)"
      ],
      "metadata": {
        "colab": {
          "base_uri": "https://localhost:8080/",
          "height": 71
        },
        "id": "bEtq3o7Waym6",
        "outputId": "b200187b-1dfb-4f19-d9eb-4b5b4190293f"
      },
      "execution_count": 15,
      "outputs": [
        {
          "output_type": "stream",
          "name": "stdout",
          "text": [
            "ln(x+1)  ≅\n"
          ]
        },
        {
          "output_type": "execute_result",
          "data": {
            "text/plain": [
              "x - x**2/2 + x**3/3 - x**4/4 + x**5/5 - x**6/6 + x**7/7 + O(x**8)"
            ],
            "text/latex": "$\\displaystyle x - \\frac{x^{2}}{2} + \\frac{x^{3}}{3} - \\frac{x^{4}}{4} + \\frac{x^{5}}{5} - \\frac{x^{6}}{6} + \\frac{x^{7}}{7} + O\\left(x^{8}\\right)$"
          },
          "metadata": {},
          "execution_count": 15
        }
      ]
    },
    {
      "cell_type": "code",
      "source": [
        "print('ln(x+1) ≅', taylor(ln(x+1), 0, 8))"
      ],
      "metadata": {
        "colab": {
          "base_uri": "https://localhost:8080/"
        },
        "id": "VU2Q0vuYa_xQ",
        "outputId": "6c651380-77e6-430d-91e1-c9ccb089c8ce"
      },
      "execution_count": 16,
      "outputs": [
        {
          "output_type": "stream",
          "name": "stdout",
          "text": [
            "ln(x+1) ≅ x - x**2/2 + x**3/3 - x**4/4 + x**5/5 - x**6/6 + x**7/7 + O(x**8)\n"
          ]
        }
      ]
    },
    {
      "cell_type": "code",
      "source": [
        "print('ln(x+1) ≅ at around 0.1')\n",
        "taylor(ln(x+1), 0.1, 8)"
      ],
      "metadata": {
        "colab": {
          "base_uri": "https://localhost:8080/",
          "height": 124
        },
        "id": "iX0DNQdrbtdY",
        "outputId": "9ca0dcd9-1f19-431d-9c5c-8174577ca128"
      },
      "execution_count": 17,
      "outputs": [
        {
          "output_type": "stream",
          "name": "stdout",
          "text": [
            "ln(x+1) ≅ at around 0.1\n"
          ]
        },
        {
          "output_type": "execute_result",
          "data": {
            "text/plain": [
              "0.00440108889523402 - 50*(x - 0.1)**2/121 + 250438266967193*(x - 0.1)**3/1000000000000000 - 2500*(x - 0.1)**4/14641 + 124184264611831*(x - 0.1)**5/1000000000000000 - 470394941711481*(x - 0.1)**6/5000000000000000 + 733083026043867*(x - 0.1)**7/10000000000000000 + 10*x/11 + O((x - 1/10)**8, (x, 1/10))"
            ],
            "text/latex": "$\\displaystyle 0.00440108889523402 - \\frac{50 \\left(x - 0.1\\right)^{2}}{121} + \\frac{250438266967193 \\left(x - 0.1\\right)^{3}}{1000000000000000} - \\frac{2500 \\left(x - 0.1\\right)^{4}}{14641} + \\frac{124184264611831 \\left(x - 0.1\\right)^{5}}{1000000000000000} - \\frac{470394941711481 \\left(x - 0.1\\right)^{6}}{5000000000000000} + \\frac{733083026043867 \\left(x - 0.1\\right)^{7}}{10000000000000000} + \\frac{10 x}{11} + O\\left(\\left(x - \\frac{1}{10}\\right)^{8}; x\\rightarrow \\frac{1}{10}\\right)$"
          },
          "metadata": {},
          "execution_count": 17
        }
      ]
    },
    {
      "cell_type": "code",
      "source": [
        "print('ln(1.5) =', taylor(ln(x+1), 0, 4).subs(x,0.5))"
      ],
      "metadata": {
        "colab": {
          "base_uri": "https://localhost:8080/"
        },
        "id": "0sfHK6K4b7KQ",
        "outputId": "7947da80-abc0-4234-97ef-392b2f0c61cb"
      },
      "execution_count": 18,
      "outputs": [
        {
          "output_type": "stream",
          "name": "stdout",
          "text": [
            "ln(1.5) = O(1)\n"
          ]
        }
      ]
    },
    {
      "cell_type": "code",
      "source": [
        "print('ln(1.5) =', N(taylor(ln(x+1), 0, 4).subs(x,0.5)))"
      ],
      "metadata": {
        "colab": {
          "base_uri": "https://localhost:8080/"
        },
        "id": "t64ikINpcL-v",
        "outputId": "a71dc5ce-626b-4b9b-b841-793b16c556e9"
      },
      "execution_count": 19,
      "outputs": [
        {
          "output_type": "stream",
          "name": "stdout",
          "text": [
            "ln(1.5) = O(1)\n"
          ]
        }
      ]
    },
    {
      "cell_type": "code",
      "source": [
        "print('Taylor 1 ln(x+1) ≅', taylor(ln(x+1), 0, 2))\n",
        "print('Taylor 2 ln(x+1) ≅', taylor(ln(x+1), 0, 3))\n",
        "print('Taylor 3 ln(x+1) ≅', taylor(ln(x+1), 0, 4))\n",
        "print('Taylor 4 ln(x+1) ≅', taylor(ln(x+1), 0, 5))\n",
        "print('Taylor 5 ln(x+1) ≅', taylor(ln(x+1), 0, 6))\n",
        "print('Taylor 6 ln(x+1) ≅', taylor(ln(x+1), 0, 7))\n",
        "print('Taylor 7 ln(x+1) ≅', taylor(ln(x+1), 0, 8))"
      ],
      "metadata": {
        "colab": {
          "base_uri": "https://localhost:8080/"
        },
        "id": "ytUFqliacVnQ",
        "outputId": "01794e9f-dad5-46fe-e3c3-757112a3c8f0"
      },
      "execution_count": 20,
      "outputs": [
        {
          "output_type": "stream",
          "name": "stdout",
          "text": [
            "Taylor 1 ln(x+1) ≅ x + O(x**2)\n",
            "Taylor 2 ln(x+1) ≅ x - x**2/2 + O(x**3)\n",
            "Taylor 3 ln(x+1) ≅ x - x**2/2 + x**3/3 + O(x**4)\n",
            "Taylor 4 ln(x+1) ≅ x - x**2/2 + x**3/3 - x**4/4 + O(x**5)\n",
            "Taylor 5 ln(x+1) ≅ x - x**2/2 + x**3/3 - x**4/4 + x**5/5 + O(x**6)\n",
            "Taylor 6 ln(x+1) ≅ x - x**2/2 + x**3/3 - x**4/4 + x**5/5 - x**6/6 + O(x**7)\n",
            "Taylor 7 ln(x+1) ≅ x - x**2/2 + x**3/3 - x**4/4 + x**5/5 - x**6/6 + x**7/7 + O(x**8)\n"
          ]
        }
      ]
    },
    {
      "cell_type": "code",
      "source": [
        "print('Taylor 1 ln(x+1) ≅', taylor(ln(x+1), 0, 2).subs(x,0.5))\n",
        "print('Taylor 2 ln(x+1) ≅', taylor(ln(x+1), 0, 3).subs(x,0.5))\n",
        "print('Taylor 3 ln(x+1) ≅', taylor(ln(x+1), 0, 4).subs(x,0.5))\n",
        "print('Taylor 4 ln(x+1) ≅', taylor(ln(x+1), 0, 5).subs(x,0.5))\n",
        "print('Taylor 5 ln(x+1) ≅', taylor(ln(x+1), 0, 6).subs(x,0.5))\n",
        "print('Taylor 6 ln(x+1) ≅', taylor(ln(x+1), 0, 7).subs(x,0.5))\n",
        "print('Taylor 7 ln(x+1) ≅', taylor(ln(x+1), 0, 8).subs(x,0.5))"
      ],
      "metadata": {
        "colab": {
          "base_uri": "https://localhost:8080/"
        },
        "id": "iGvi9RgacapA",
        "outputId": "dad24a02-fff8-49c9-b196-aa18782066c4"
      },
      "execution_count": 21,
      "outputs": [
        {
          "output_type": "stream",
          "name": "stdout",
          "text": [
            "Taylor 1 ln(x+1) ≅ O(1)\n",
            "Taylor 2 ln(x+1) ≅ O(1)\n",
            "Taylor 3 ln(x+1) ≅ O(1)\n",
            "Taylor 4 ln(x+1) ≅ O(1)\n",
            "Taylor 5 ln(x+1) ≅ O(1)\n",
            "Taylor 6 ln(x+1) ≅ O(1)\n",
            "Taylor 7 ln(x+1) ≅ O(1)\n"
          ]
        }
      ]
    },
    {
      "cell_type": "code",
      "source": [
        "print('Taylor 1 ln(x+1) ≅', N(taylor(ln(x+1), 0, 2).subs(x,0.5)))\n",
        "print('Taylor 2 ln(x+1) ≅', N(taylor(ln(x+1), 0, 3).subs(x,0.5)))\n",
        "print('Taylor 3 ln(x+1) ≅', N(taylor(ln(x+1), 0, 4).subs(x,0.5)))\n",
        "print('Taylor 4 ln(x+1) ≅', N(taylor(ln(x+1), 0, 5).subs(x,0.5)))\n",
        "print('Taylor 5 ln(x+1) ≅', N(taylor(ln(x+1), 0, 6).subs(x,0.5)))\n",
        "print('Taylor 6 ln(x+1) ≅', N(taylor(ln(x+1), 0, 7).subs(x,0.5)))\n",
        "print('Taylor 7 ln(x+1) ≅', N(taylor(ln(x+1), 0, 8).subs(x,0.5)))"
      ],
      "metadata": {
        "colab": {
          "base_uri": "https://localhost:8080/"
        },
        "id": "N_VVBah_crmQ",
        "outputId": "8a02a82d-2559-4df9-b3a7-74c00f757247"
      },
      "execution_count": 22,
      "outputs": [
        {
          "output_type": "stream",
          "name": "stdout",
          "text": [
            "Taylor 1 ln(x+1) ≅ O(1)\n",
            "Taylor 2 ln(x+1) ≅ O(1)\n",
            "Taylor 3 ln(x+1) ≅ O(1)\n",
            "Taylor 4 ln(x+1) ≅ O(1)\n",
            "Taylor 5 ln(x+1) ≅ O(1)\n",
            "Taylor 6 ln(x+1) ≅ O(1)\n",
            "Taylor 7 ln(x+1) ≅ O(1)\n"
          ]
        }
      ]
    },
    {
      "cell_type": "code",
      "source": [
        "# Function for Taylor Series Expansion\n",
        "\n",
        "def taylor(function, x0, n):\n",
        "    \"\"\"\n",
        "    Parameter \"function\" is our function which we want to approximate\n",
        "    \"x0\" is the point where to approximate\n",
        "    \"n\" is the order of approximation\n",
        "    \"\"\"\n",
        "    return function.series(x,x0,n).removeO()"
      ],
      "metadata": {
        "id": "Gv65YRzdc3qQ"
      },
      "execution_count": 23,
      "outputs": []
    },
    {
      "cell_type": "code",
      "source": [
        "print('ln(x+1)  ≅')\n",
        "taylor(ln(x+1), 0, 8)"
      ],
      "metadata": {
        "colab": {
          "base_uri": "https://localhost:8080/",
          "height": 71
        },
        "id": "EQtZRYJpc5Ro",
        "outputId": "2d1d5f7d-75d7-4323-c5f4-34d9e14115c3"
      },
      "execution_count": 24,
      "outputs": [
        {
          "output_type": "stream",
          "name": "stdout",
          "text": [
            "ln(x+1)  ≅\n"
          ]
        },
        {
          "output_type": "execute_result",
          "data": {
            "text/plain": [
              "x**7/7 - x**6/6 + x**5/5 - x**4/4 + x**3/3 - x**2/2 + x"
            ],
            "text/latex": "$\\displaystyle \\frac{x^{7}}{7} - \\frac{x^{6}}{6} + \\frac{x^{5}}{5} - \\frac{x^{4}}{4} + \\frac{x^{3}}{3} - \\frac{x^{2}}{2} + x$"
          },
          "metadata": {},
          "execution_count": 24
        }
      ]
    },
    {
      "cell_type": "code",
      "source": [
        "print('ln(x+1) ≅', taylor(ln(x+1), 0, 8))"
      ],
      "metadata": {
        "colab": {
          "base_uri": "https://localhost:8080/"
        },
        "id": "DcPjj8PWdBap",
        "outputId": "adab0ec2-58a6-4dbd-9ab1-02deefc4edb1"
      },
      "execution_count": 25,
      "outputs": [
        {
          "output_type": "stream",
          "name": "stdout",
          "text": [
            "ln(x+1) ≅ x**7/7 - x**6/6 + x**5/5 - x**4/4 + x**3/3 - x**2/2 + x\n"
          ]
        }
      ]
    },
    {
      "cell_type": "code",
      "source": [
        "print('ln ≅ at around 0.1')\n",
        "taylor(ln(x+1), 0.1, 8)"
      ],
      "metadata": {
        "colab": {
          "base_uri": "https://localhost:8080/",
          "height": 113
        },
        "outputId": "4435a0f9-1acb-4d7f-d1b7-6076110b4655",
        "id": "OXZgOve0dS67"
      },
      "execution_count": 26,
      "outputs": [
        {
          "output_type": "stream",
          "name": "stdout",
          "text": [
            "ln ≅ at around 0.1\n"
          ]
        },
        {
          "output_type": "execute_result",
          "data": {
            "text/plain": [
              "10*x/11 + 733083026043867*(x - 0.1)**7/10000000000000000 - 470394941711481*(x - 0.1)**6/5000000000000000 + 124184264611831*(x - 0.1)**5/1000000000000000 - 2500*(x - 0.1)**4/14641 + 250438266967193*(x - 0.1)**3/1000000000000000 - 50*(x - 0.1)**2/121 + 0.00440108889523402"
            ],
            "text/latex": "$\\displaystyle \\frac{10 x}{11} + \\frac{733083026043867 \\left(x - 0.1\\right)^{7}}{10000000000000000} - \\frac{470394941711481 \\left(x - 0.1\\right)^{6}}{5000000000000000} + \\frac{124184264611831 \\left(x - 0.1\\right)^{5}}{1000000000000000} - \\frac{2500 \\left(x - 0.1\\right)^{4}}{14641} + \\frac{250438266967193 \\left(x - 0.1\\right)^{3}}{1000000000000000} - \\frac{50 \\left(x - 0.1\\right)^{2}}{121} + 0.00440108889523402$"
          },
          "metadata": {},
          "execution_count": 26
        }
      ]
    },
    {
      "cell_type": "code",
      "source": [
        "print('ln(1.5) =', taylor(ln(x+1), 0, 4).subs(x,0.5))"
      ],
      "metadata": {
        "colab": {
          "base_uri": "https://localhost:8080/"
        },
        "outputId": "17d53a7c-00b1-4136-cb7d-578859f703cf",
        "id": "8OvEA2B8dS69"
      },
      "execution_count": 27,
      "outputs": [
        {
          "output_type": "stream",
          "name": "stdout",
          "text": [
            "ln(1.5) = 0.416666666666667\n"
          ]
        }
      ]
    },
    {
      "cell_type": "code",
      "source": [
        "print('ln(1.5) =', N(taylor(ln(x+1), 0, 4).subs(x,0.5)))"
      ],
      "metadata": {
        "colab": {
          "base_uri": "https://localhost:8080/"
        },
        "outputId": "f4bba464-25f0-493a-d93a-4268d246d156",
        "id": "HjQaTc7QdS6-"
      },
      "execution_count": 28,
      "outputs": [
        {
          "output_type": "stream",
          "name": "stdout",
          "text": [
            "ln(1.5) = 0.416666666666667\n"
          ]
        }
      ]
    },
    {
      "cell_type": "code",
      "source": [
        "print('Taylor 1 ln(x+1) ≅', taylor(ln(x+1), 0, 2))\n",
        "print('Taylor 2 ln(x+1) ≅', taylor(ln(x+1), 0, 3))\n",
        "print('Taylor 3 ln(x+1) ≅', taylor(ln(x+1), 0, 4))\n",
        "print('Taylor 4 ln(x+1) ≅', taylor(ln(x+1), 0, 5))\n",
        "print('Taylor 5 ln(x+1) ≅', taylor(ln(x+1), 0, 6))\n",
        "print('Taylor 6 ln(x+1) ≅', taylor(ln(x+1), 0, 7))\n",
        "print('Taylor 7 ln(x+1) ≅', taylor(ln(x+1), 0, 8))"
      ],
      "metadata": {
        "colab": {
          "base_uri": "https://localhost:8080/"
        },
        "outputId": "6cd6ed2c-787c-4527-f41c-a5597ba07d91",
        "id": "8H_qhh0OdS6-"
      },
      "execution_count": 29,
      "outputs": [
        {
          "output_type": "stream",
          "name": "stdout",
          "text": [
            "Taylor 1 ln(x+1) ≅ x\n",
            "Taylor 2 ln(x+1) ≅ -x**2/2 + x\n",
            "Taylor 3 ln(x+1) ≅ x**3/3 - x**2/2 + x\n",
            "Taylor 4 ln(x+1) ≅ -x**4/4 + x**3/3 - x**2/2 + x\n",
            "Taylor 5 ln(x+1) ≅ x**5/5 - x**4/4 + x**3/3 - x**2/2 + x\n",
            "Taylor 6 ln(x+1) ≅ -x**6/6 + x**5/5 - x**4/4 + x**3/3 - x**2/2 + x\n",
            "Taylor 7 ln(x+1) ≅ x**7/7 - x**6/6 + x**5/5 - x**4/4 + x**3/3 - x**2/2 + x\n"
          ]
        }
      ]
    },
    {
      "cell_type": "code",
      "source": [
        "print('Taylor 1 ln(x+1) ≅', taylor(ln(x+1), 0, 2).subs(x,0.5))\n",
        "print('Taylor 2 ln(x+1) ≅', taylor(ln(x+1), 0, 3).subs(x,0.5))\n",
        "print('Taylor 3 ln(x+1) ≅', taylor(ln(x+1), 0, 4).subs(x,0.5))\n",
        "print('Taylor 4 ln(x+1) ≅', taylor(ln(x+1), 0, 5).subs(x,0.5))\n",
        "print('Taylor 5 ln(x+1) ≅', taylor(ln(x+1), 0, 6).subs(x,0.5))\n",
        "print('Taylor 6 ln(x+1) ≅', taylor(ln(x+1), 0, 7).subs(x,0.5))\n",
        "print('Taylor 7 ln(x+1) ≅', taylor(ln(x+1), 0, 8).subs(x,0.5))"
      ],
      "metadata": {
        "colab": {
          "base_uri": "https://localhost:8080/"
        },
        "outputId": "4738a8f6-d064-48bf-9a23-371ab5b48269",
        "id": "Nlwipl8zdS6_"
      },
      "execution_count": 30,
      "outputs": [
        {
          "output_type": "stream",
          "name": "stdout",
          "text": [
            "Taylor 1 ln(x+1) ≅ 0.500000000000000\n",
            "Taylor 2 ln(x+1) ≅ 0.375000000000000\n",
            "Taylor 3 ln(x+1) ≅ 0.416666666666667\n",
            "Taylor 4 ln(x+1) ≅ 0.401041666666667\n",
            "Taylor 5 ln(x+1) ≅ 0.407291666666667\n",
            "Taylor 6 ln(x+1) ≅ 0.404687500000000\n",
            "Taylor 7 ln(x+1) ≅ 0.405803571428571\n"
          ]
        }
      ]
    },
    {
      "cell_type": "code",
      "source": [
        "print('Taylor 1 ln(x+1) ≅', N(taylor(ln(x+1), 0, 2).subs(x,0.5)))\n",
        "print('Taylor 2 ln(x+1) ≅', N(taylor(ln(x+1), 0, 3).subs(x,0.5)))\n",
        "print('Taylor 3 ln(x+1) ≅', N(taylor(ln(x+1), 0, 4).subs(x,0.5)))\n",
        "print('Taylor 4 ln(x+1) ≅', N(taylor(ln(x+1), 0, 5).subs(x,0.5)))\n",
        "print('Taylor 5 ln(x+1) ≅', N(taylor(ln(x+1), 0, 6).subs(x,0.5)))\n",
        "print('Taylor 6 ln(x+1) ≅', N(taylor(ln(x+1), 0, 7).subs(x,0.5)))\n",
        "print('Taylor 7 ln(x+1) ≅', N(taylor(ln(x+1), 0, 8).subs(x,0.5)))"
      ],
      "metadata": {
        "colab": {
          "base_uri": "https://localhost:8080/"
        },
        "outputId": "40c0ab90-8208-4500-a97d-adaa8c736918",
        "id": "xAotZ1UMdS7A"
      },
      "execution_count": 31,
      "outputs": [
        {
          "output_type": "stream",
          "name": "stdout",
          "text": [
            "Taylor 1 ln(x+1) ≅ 0.500000000000000\n",
            "Taylor 2 ln(x+1) ≅ 0.375000000000000\n",
            "Taylor 3 ln(x+1) ≅ 0.416666666666667\n",
            "Taylor 4 ln(x+1) ≅ 0.401041666666667\n",
            "Taylor 5 ln(x+1) ≅ 0.407291666666667\n",
            "Taylor 6 ln(x+1) ≅ 0.404687500000000\n",
            "Taylor 7 ln(x+1) ≅ 0.405803571428571\n"
          ]
        }
      ]
    },
    {
      "cell_type": "code",
      "source": [],
      "metadata": {
        "id": "WOokw4Updmb7"
      },
      "execution_count": 31,
      "outputs": []
    },
    {
      "cell_type": "code",
      "metadata": {
        "colab": {
          "base_uri": "https://localhost:8080/",
          "height": 435
        },
        "id": "XvqxBhg8O7Oi",
        "outputId": "a3da2536-1eaf-4534-9ec3-8c065c40c9df"
      },
      "source": [
        "import math\n",
        "import numpy as np\n",
        "import matplotlib.pyplot as plt\n",
        "# if using a Jupyter notebook, include:\n",
        "%matplotlib inline\n",
        "\n",
        "values = np.arange(-0.99,1,0.01)\n",
        "p_ln = np.log(values+1)\n",
        "t_ln1 = [taylor(ln(x+1), 0, 2).subs(x,v) for v in values]\n",
        "legends = ['ln(x+1) ','Taylor 1 (linear)']\n",
        "\n",
        "fig, ax = plt.subplots()\n",
        "ax.plot(values,p_ln, color ='red')\n",
        "ax.plot(values,t_ln1)\n",
        "\n",
        "ax.set_ylim([-1,1])\n",
        "ax.axhline(y=0.0, xmin=-1.0, xmax=1.0, color='black')\n",
        "ax.axvline(x=0.0, ymin=-10.0, ymax=10.0, color='black')\n",
        "ax.legend(legends)\n",
        "\n",
        "plt.show()"
      ],
      "execution_count": 32,
      "outputs": [
        {
          "output_type": "display_data",
          "data": {
            "text/plain": [
              "<Figure size 640x480 with 1 Axes>"
            ],
            "image/png": "[encoded data removed]"
          },
          "metadata": {}
        }
      ]
    },
    {
      "cell_type": "code",
      "metadata": {
        "id": "PLR1O9HUPFwg"
      },
      "source": [
        "import math\n",
        "import numpy as np\n",
        "import matplotlib.pyplot as plt\n",
        "# if using a Jupyter notebook, include:\n",
        "%matplotlib inline\n",
        "\n",
        "values = np.arange(-0.99,1,0.01)\n",
        "p_ln = np.log(values+1)\n",
        "t_ln2 = [taylor(ln(x+1), 0, 3).subs(x,v) for v in values]\n",
        "legends = ['ln(x+1) ','Taylor 2 (quadratic)']\n",
        "\n",
        "fig, ax = plt.subplots()\n",
        "ax.plot(values,p_ln, color ='red')\n",
        "ax.plot(values,t_ln2)\n",
        "\n",
        "ax.set_ylim([-1,1])\n",
        "ax.axhline(y=0.0, xmin=-1.0, xmax=1.0, color='black')\n",
        "ax.axvline(x=0.0, ymin=-10.0, ymax=10.0, color='black')\n",
        "ax.legend(legends)\n",
        "\n",
        "plt.show()"
      ],
      "execution_count": null,
      "outputs": []
    },
    {
      "cell_type": "code",
      "metadata": {
        "id": "Z9AEeR_BPJCA"
      },
      "source": [
        "import math\n",
        "import numpy as np\n",
        "import matplotlib.pyplot as plt\n",
        "# if using a Jupyter notebook, include:\n",
        "%matplotlib inline\n",
        "\n",
        "values = np.arange(-0.99,1,0.01)\n",
        "p_ln = np.log(values+1)\n",
        "t_ln3 = [taylor(ln(x+1), 0, 4).subs(x,v) for v in values]\n",
        "legends = ['ln(x+1) ','Taylor 3 (cubic)']\n",
        "\n",
        "fig, ax = plt.subplots()\n",
        "ax.plot(values,p_ln, color ='red')\n",
        "ax.plot(values,t_ln3)\n",
        "\n",
        "ax.set_ylim([-1,1])\n",
        "ax.axhline(y=0.0, xmin=-1.0, xmax=1.0, color='black')\n",
        "ax.axvline(x=0.0, ymin=-10.0, ymax=10.0, color='black')\n",
        "ax.legend(legends)\n",
        "\n",
        "plt.show()"
      ],
      "execution_count": null,
      "outputs": []
    },
    {
      "cell_type": "code",
      "metadata": {
        "id": "vLO9icMdPMmg"
      },
      "source": [
        "import math\n",
        "import numpy as np\n",
        "import matplotlib.pyplot as plt\n",
        "# if using a Jupyter notebook, include:\n",
        "%matplotlib inline\n",
        "\n",
        "values = np.arange(-0.99,1,0.01)\n",
        "p_exp = np.log(values+1)\n",
        "t_ln1 = [taylor(ln(x+1), 0, 2).subs(x,v) for v in values]\n",
        "t_ln2 = [taylor(ln(x+1), 0, 3).subs(x,v) for v in values]\n",
        "t_ln3 = [taylor(ln(x+1), 0, 4).subs(x,v) for v in values]\n",
        "legends = ['ln(x+1) ','Taylor 1 (linear)','Taylor 2 (quadratic)','Taylor 3 (cubic)']\n",
        "\n",
        "fig, ax = plt.subplots()\n",
        "ax.plot(values,p_exp)\n",
        "ax.plot(values,t_ln1)\n",
        "ax.plot(values,t_ln2)\n",
        "ax.plot(values,t_ln3)\n",
        "\n",
        "ax.set_ylim([-1,1])\n",
        "ax.axhline(y=0.0, xmin=-1.0, xmax=1.0, color='black')\n",
        "ax.axvline(x=0.0, ymin=-10.0, ymax=10.0, color='black')\n",
        "ax.legend(legends)\n",
        "\n",
        "plt.show()"
      ],
      "execution_count": null,
      "outputs": []
    }
  ]
}